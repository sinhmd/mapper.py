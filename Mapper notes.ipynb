{
 "metadata": {
  "name": "Mapper notes"
 },
 "nbformat": 3,
 "nbformat_minor": 0,
 "worksheets": [
  {
   "cells": [
    {
     "cell_type": "code",
     "collapsed": false,
     "input": [
      "from collections import defaultdict"
     ],
     "language": "python",
     "metadata": {},
     "outputs": [],
     "prompt_number": 1
    },
    {
     "cell_type": "code",
     "collapsed": false,
     "input": [
      "from scipy.cluster import hierarchy"
     ],
     "language": "python",
     "metadata": {},
     "outputs": [],
     "prompt_number": 2
    },
    {
     "cell_type": "code",
     "collapsed": false,
     "input": [
      "from scipy.spatial import distance"
     ],
     "language": "python",
     "metadata": {},
     "outputs": [],
     "prompt_number": 3
    },
    {
     "cell_type": "code",
     "collapsed": false,
     "input": [
      "import networkx as nx"
     ],
     "language": "python",
     "metadata": {},
     "outputs": [],
     "prompt_number": 4
    },
    {
     "cell_type": "code",
     "collapsed": false,
     "input": [
      "def barcode_linkage_noplex(dist):\n",
      "    true = np.ones_like(dist) == 1\n",
      "    LM_cond = dist[np.tril(true, -1).T]\n",
      "    Z = hierarchy.linkage(LM_cond)\n",
      "    R = dist.max()\n",
      "    N = len(dist)\n",
      "\n",
      "    # The distance between clusters Z[i, 0] and Z[i, 1] is given by Z[i, 2]\n",
      "    I = np.zeros((2, len(Z[:, 2]) + 1))\n",
      "    I[1, :len(Z[:, 2])] = Z[:, 2]\n",
      "    I[1, len(Z[:, 2])] = np.inf\n",
      "\n",
      "    D = np.triu(dist <= R)\n",
      "\n",
      "    II, JJ = np.nonzero(D)\n",
      "    Ca = np.zeros((2, len(II)), dtype=int)\n",
      "    Ca[0, :] = II\n",
      "    Ca[1, :] = JJ\n",
      "\n",
      "    ind = np.ravel_multi_index((Ca[0, :], Ca[1, :]), dims=(N, N))\n",
      "\n",
      "    F = dist.flat[ind]\n",
      "\n",
      "    return I, R, Ca, F"
     ],
     "language": "python",
     "metadata": {},
     "outputs": [],
     "prompt_number": 57
    },
    {
     "cell_type": "code",
     "collapsed": false,
     "input": [
      "def color_graph(G):\n",
      "    num_nodes = G.shape[0]\n",
      "    node_colors = np.zeros(num_nodes)\n",
      "    color = 1\n",
      "    q = [0]\n",
      "    node_colors[q[0]] = color\n",
      "    \n",
      "    while (node_colors == 0).any():\n",
      "        while len(q) > 0:\n",
      "            current_node = q.pop(0)\n",
      "            connected_nodes = G[current_node].nonzero()[0]\n",
      "            for i in range(len(connected_nodes)):\n",
      "                if node_colors[connected_nodes[i]] == 0:\n",
      "                    node_colors[connected_nodes[i]] = color\n",
      "                    q.extend(list(connected_nodes))\n",
      "                    \n",
      "        colorless = (node_colors == 0).nonzero()[0]\n",
      "        if len(colorless) > 0:\n",
      "            q = [colorless[0]]\n",
      "            color += 1\n",
      "            node_colors[q[0]] = color\n",
      "        \n",
      "    return node_colors"
     ],
     "language": "python",
     "metadata": {},
     "outputs": [],
     "prompt_number": 58
    },
    {
     "cell_type": "code",
     "collapsed": false,
     "input": [
      "n_pts = 300\n",
      "aa = 2 * pi * np.random.rand(n_pts)\n",
      "X = np.zeros((n_pts, 2))\n",
      "X[:, 0] = cos(aa)\n",
      "X[:, 1] = sin(aa)"
     ],
     "language": "python",
     "metadata": {},
     "outputs": [],
     "prompt_number": 236
    },
    {
     "cell_type": "code",
     "collapsed": false,
     "input": [
      "figsize(4, 4)\n",
      "plt.scatter(X.T[0], X.T[1], s=100, edgecolor='none')"
     ],
     "language": "python",
     "metadata": {},
     "outputs": [
      {
       "output_type": "pyout",
       "prompt_number": 237,
       "text": [
        "<matplotlib.collections.PathCollection at 0x10db98090>"
       ]
      },
      {
       "output_type": "display_data",
       "png": "[encoded data removed]"
      }
     ],
     "prompt_number": 237
    },
    {
     "cell_type": "code",
     "collapsed": false,
     "input": [
      "d = distance.cdist(X, X)\n",
      "eccFilter = d[0,:]\n",
      "#eccFilter = X[:,0] + 1."
     ],
     "language": "python",
     "metadata": {},
     "outputs": [],
     "prompt_number": 298
    },
    {
     "cell_type": "code",
     "collapsed": false,
     "input": [
      "figsize(5, 4)\n",
      "plt.scatter(X.T[0], X.T[1], c=eccFilter, s=100, edgecolor='none')\n",
      "plt.colorbar()\n",
      "plt.xlim([-1.5, 1.5])\n",
      "plt.ylim([-1.5, 1.5])"
     ],
     "language": "python",
     "metadata": {},
     "outputs": [
      {
       "output_type": "pyout",
       "prompt_number": 299,
       "text": [
        "(-1.5, 1.5)"
       ]
      },
      {
       "output_type": "display_data",
       "png": "[encoded data removed]"
      }
     ],
     "prompt_number": 299
    },
    {
     "cell_type": "code",
     "collapsed": false,
     "input": [
      "filter_samples = 5.\n",
      "overlap_pct = 50.\n",
      "\n",
      "filter_fcn = eccFilter\n",
      "\n",
      "# Should be in function\n",
      "resolution = 1. / filter_samples\n",
      "overlap = overlap_pct\n",
      "\n",
      "magic_fudge = 10.\n",
      "\n",
      "step = (filter_fcn.max() - filter_fcn.min()) * resolution\n",
      "\n",
      "level = 1\n",
      "node_info = defaultdict(dict)\n",
      "level_idx = {}\n",
      "adja = {}\n",
      "\n",
      "print('Filter range: [{:.2f}-{:.2f}]'.format(filter_fcn.min(), filter_fcn.max()))\n",
      "print('Interval length: {:.2f}'.format(step))\n",
      "print('Overlap: {:.2f}'.format(overlap))\n",
      "print('Magic fudge: {:.2f}'.format(magic_fudge))\n",
      "\n",
      "r_step = step * (1. - overlap / 100.)\n",
      "for i in np.arange(filter_fcn.min(), filter_fcn.max() + r_step, r_step):\n",
      "    print('Filter indices from range [{:.2f}-{:.2f}]'.format(i, i + step))\n",
      "    # Select the points in this filter range\n",
      "    idx = np.nonzero((i <= filter_fcn) & (filter_fcn <=  i + step))[0]\n",
      "    num_points = len(idx)\n",
      "\n",
      "    # Don't grow graph if we have too few points\n",
      "    if num_points <= 5:\n",
      "        continue\n",
      "    \n",
      "    I, R, simp1, F = barcode_linkage_noplex(d[:, idx][idx])\n",
      "    \n",
      "    lens = I[1, :] - I[0, :]\n",
      "    lens[lens == np.inf] = R\n",
      "\n",
      "    num_bin, _ = np.histogram(lens, magic_fudge)\n",
      "\n",
      "    z = np.nonzero(num_bin == 0)[0]\n",
      "    if len(z) == 0:\n",
      "        num_clusters = 1\n",
      "    else:\n",
      "        num_clusters = num_bin[z[0]:len(num_bin)].sum()\n",
      "    \n",
      "    # Get the largest value(s) in the lens\n",
      "    long_idx = np.argsort(lens)\n",
      "    long_idx = long_idx[::-1][:num_clusters]\n",
      "\n",
      "    min_death_time = I[1, long_idx].min()\n",
      "    if min_death_time == np.inf:\n",
      "        si = np.argsort(I[1, :])[::-1]\n",
      "        min_death_time = I[1,:][si][1] + np.spacing(1)\n",
      "\n",
      "    print(min_death_time)\n",
      "    \n",
      "    simp1 = simp1[:, F < min_death_time]\n",
      "    print(simp1.shape)\n",
      "\n",
      "    G = np.eye(num_points)\n",
      "    num_simps = simp1.shape[1]\n",
      "    for j in range(num_simps):\n",
      "        G[simp1[0, j], simp1[1, j]] = 1\n",
      "        G[simp1[1, j], simp1[0, j]] = 1\n",
      "    \n",
      "    node_colors = color_graph(G)\n",
      "    num_colors = len(set(node_colors))\n",
      "\n",
      "    num_graph_nodes = len(node_info)\n",
      "    level_idx[level] = []\n",
      "    for j in set(node_colors):\n",
      "        curr_color = j + num_graph_nodes\n",
      "        level_idx[level].append(curr_color)\n",
      "        node_info[curr_color]['level'] = level\n",
      "        node_info[curr_color]['fnval'] = i\n",
      "        node_info[curr_color]['set'] = set(idx[node_colors == j])\n",
      "        node_info[curr_color]['filter'] = filter_fcn[idx[node_colors == j]].max()\n",
      "    \n",
      "    if level > 1:\n",
      "        prev_lvl_idx = level_idx[level - 1]\n",
      "        this_lvl_idx = level_idx[level]\n",
      "        for i1 in range(1, len(prev_lvl_idx)):\n",
      "            for i2 in range(1, len(this_lvl_idx)):\n",
      "                a = prev_lvl_idx[i1]\n",
      "                b = this_lvl_idx[i2]\n",
      "                if len(node_info[a]['set'] & node_info[b]['set']) > 0:\n",
      "                    adja[(a, b)] = 1\n",
      "                    adja[(b, a)] = 1\n",
      "    \n",
      "    level += 1\n",
      "\n",
      "print('done')\n",
      "display(adja)\n",
      "\n",
      "ecc = []\n",
      "set_size = []\n",
      "for i in range(1, len(node_info)):\n",
      "    ecc.append(node_info[float(i)]['filter'])\n",
      "    set_size.append(len(node_info[float(i)]['set']))\n",
      "\n",
      "ecc = []\n",
      "set_size = []\n",
      "for i in range(1, len(node_info)):\n",
      "    ecc.append(node_info[float(i)]['filter'])\n",
      "    set_size.append(len(node_info[float(i)]['set']))\n",
      "\n",
      "gg = nx.DiGraph(adja.keys())\n",
      "\n",
      "nx.draw(gg,\n",
      "        node_size=[set_size[int(n)-2] * 30 for n in gg.nodes()],\n",
      "        node_color=[ecc[int(n)-2] for n in gg.nodes()])\n",
      "\n",
      "plt.colorbar()"
     ],
     "language": "python",
     "metadata": {},
     "outputs": [
      {
       "output_type": "stream",
       "stream": "stdout",
       "text": [
        "Filter range: [0.00-2.00]\n",
        "Interval length: 0.40\n",
        "Overlap: 50.00\n",
        "Magic fudge: 10.00\n",
        "Filter indices from range [0.00-0.40]\n",
        "0.0942895321194\n",
        "(2, 211)\n",
        "Filter indices from range [0.20-0.60]\n",
        "0.428245841705\n",
        "(2, 400)\n",
        "Filter indices from range [0.40-0.80]"
       ]
      },
      {
       "output_type": "stream",
       "stream": "stdout",
       "text": [
        "\n",
        "0.791016121664\n",
        "(2, 471)\n",
        "Filter indices from range [0.60-1.00]"
       ]
      },
      {
       "output_type": "stream",
       "stream": "stdout",
       "text": [
        "\n",
        "1.16322659144\n",
        "(2, 507)\n",
        "Filter indices from range [0.80-1.20]"
       ]
      },
      {
       "output_type": "stream",
       "stream": "stdout",
       "text": [
        "\n",
        "1.53840542996\n",
        "(2, 466)\n",
        "Filter indices from range [1.00-1.40]"
       ]
      },
      {
       "output_type": "stream",
       "stream": "stdout",
       "text": [
        "\n",
        "1.77901883425\n",
        "(2, 361)\n",
        "Filter indices from range [1.20-1.60]\n",
        "1.93234038287\n",
        "(2, 828)\n",
        "Filter indices from range [1.40-1.80]"
       ]
      },
      {
       "output_type": "stream",
       "stream": "stdout",
       "text": [
        "\n",
        "1.57791029449\n",
        "(2, 1896)\n",
        "Filter indices from range [1.60-2.00]"
       ]
      },
      {
       "output_type": "stream",
       "stream": "stdout",
       "text": [
        "\n",
        "0.188901113065\n",
        "(2, 1172)\n",
        "Filter indices from range [1.80-2.20]"
       ]
      },
      {
       "output_type": "stream",
       "stream": "stdout",
       "text": [
        "\n",
        "0.188901113065\n",
        "(2, 619)\n",
        "Filter indices from range [2.00-2.40]"
       ]
      },
      {
       "output_type": "stream",
       "stream": "stdout",
       "text": [
        "\n",
        "done\n"
       ]
      },
      {
       "output_type": "display_data",
       "text": [
        "{(7.0, 9.0): 1,\n",
        " (9.0, 7.0): 1,\n",
        " (9.0, 11.0): 1,\n",
        " (11.0, 9.0): 1,\n",
        " (11.0, 13.0): 1,\n",
        " (13.0, 11.0): 1}"
       ]
      }
     ],
     "prompt_number": "*"
    },
    {
     "cell_type": "code",
     "collapsed": false,
     "input": [],
     "language": "python",
     "metadata": {},
     "outputs": []
    }
   ],
   "metadata": {}
  }
 ]
}